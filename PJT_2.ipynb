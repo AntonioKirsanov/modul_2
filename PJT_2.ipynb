{
 "cells": [
  {
   "cell_type": "markdown",
   "metadata": {},
   "source": [
    "# Описание задания\n",
    "\n",
    "Вас пригласили поучаствовать в одном из проектов UNICEF — международного подразделения ООН, чья миссия состоит в повышении уровня благополучия детей по всему миру. \n",
    "\n",
    "Суть проекта — отследить влияние условий жизни учащихся в возрасте от 15 до 22 лет на их успеваемость по математике, чтобы на ранней стадии выявлять студентов, находящихся в группе риска.\n",
    "\n",
    "И сделать это можно с помощью модели, которая предсказывала бы результаты госэкзамена по математике для каждого ученика школы (вот она, сила ML!). Чтобы определиться с параметрами будущей модели, проведите разведывательный анализ данных и составьте отчёт по его результатам."
   ]
  },
  {
   "cell_type": "markdown",
   "metadata": {},
   "source": [
    "# Описание датасета\n",
    "- 1 school — аббревиатура школы, в которой учится ученик\n",
    "- 2 sex — пол ученика ('F' - женский, 'M' - мужской)\n",
    "- 3 age — возраст ученика (от 15 до 22)\n",
    "- 4 address — тип адреса ученика ('U' - городской, 'R' - за городом)\n",
    "- 5 famsize — размер семьи('LE3' <= 3, 'GT3' >3)\n",
    "- 6 Pstatus — статус совместного жилья родителей ('T' - живут вместе 'A' - раздельно)\n",
    "- 7 Medu — образование матери (0 - нет, 1 - 4 класса, 2 - 5-9 классы, 3- среднее специальное или 11 классов, 4 - высшее)\n",
    "- 8 Fedu — образование отца (0 - нет, 1 - 4 класса, 2 - 5-9 классы, 3 -среднее специальное или 11 классов, 4 - высшее)\n",
    "- 9 Mjob — работа матери ('teacher' - учитель, 'health' - сфера здравоохранения, 'services' - гос служба, 'at_home' - не работает, 'other' - другое)\n",
    "- 10 Fjob — работа отца ('teacher' - учитель, 'health' - сфера здравоохранения, 'services' - гос служба, 'at_home' - не работает, 'other' - другое)\n",
    "- 11 reason — причина выбора школы ('home' - близость к дому, 'reputation' - репутация школы, 'course' - образовательная программа, 'other' - другое)\n",
    "- 12 guardian — опекун ('mother' - мать, 'father' - отец, 'other' - другое)\n",
    "- 13 traveltime — время в пути до школы (1 - <15 мин., 2 - 15-30 мин., 3 - 30-60 мин., 4 - >60 мин.)\n",
    "- 14 studytime — время на учёбу помимо школы в неделю (1 - <2 часов, 2 - 2-5 часов, 3 - 5-10 часов, 4 - >10 часов)\n",
    "- 15 failures — количество внеучебных неудач (n, если 1<=n<=3, иначе 0)\n",
    "- 16 schoolsup — дополнительная образовательная поддержка (yes или no)\n",
    "- 17 famsup — семейная образовательная поддержка (yes или no)\n",
    "- 18 paid — дополнительные платные занятия по математике (yes или no)\n",
    "- 19 activities — дополнительные внеучебные занятия (yes или no)\n",
    "- 20 nursery — посещал детский сад (yes или no)\n",
    "- 21 higher — хочет получить высшее образование (yes или no)\n",
    "- 22 internet — наличие интернета дома (yes или no)\n",
    "- 23 romantic — в романтических отношениях (yes или no)\n",
    "- 24 famrel — семейные отношения (от 1 - очень плохо до 5 - очень хорошо)\n",
    "- 25 freetime — свободное время после школы (от 1 - очень мало до 5 - очень мого)\n",
    "- 26 goout — проведение времени с друзьями (от 1 - очень мало до 5 - очень много)\n",
    "- 27 health — текущее состояние здоровья (от 1 - очень плохо до 5 - очень хорошо)\n",
    "- 28 absences — количество пропущенных занятий\n",
    "- 29 score — баллы по госэкзамену по математике"
   ]
  },
  {
   "cell_type": "markdown",
   "metadata": {},
   "source": [
    "# План работы:\n",
    "## 1.  Первичный осмотр данных \n",
    "***\n",
    "### Раздел 1\n",
    "- Открыть предоставленный файл,оценить и изучить информацию представленного датасета\n",
    "- Проверить данные на пустые значения\n",
    "- Проверить данные на дублированные/полностью скоррелированные значения\n",
    "### Раздел 2\n",
    "- Оценить количество уникальных значений для номинативных переменных\n",
    "- При наличии выбросов по необходимости устранить их\n",
    "- По мере надобности преобразовать данные\n",
    "### Раздел 3\n",
    "- Рассмотреть распределение признака для числовых переменных\n",
    "- При наличии выбросов по необходимости устранить их\n",
    "- По мере надобности преобразовать данные\n",
    "## 2. Корреляционный анализ\n",
    "***\n",
    "- Провести корреляционный анализ количественных переменных\n",
    "- Отобрать не коррелирующие переменные\n",
    "- Проанализировать номинативные переменные и устранить те, которые не влияют на предсказываемую величину (в нашем случае — на переменную score)\n",
    "## 3.Анализ номенативных переменных\n",
    "****\n",
    "-  различаются ли распределения рейтинга в зависимости от значения этих переменных\n",
    "## 4.Формулировка вывода\n",
    "***\n",
    "- сформулировать выводы относительно качества данных и тех переменных, которые вы будете использовать в дальнейшем построении модели"
   ]
  },
  {
   "cell_type": "markdown",
   "metadata": {},
   "source": [
    "# Используемые функци"
   ]
  },
  {
   "cell_type": "code",
   "execution_count": 357,
   "metadata": {},
   "outputs": [],
   "source": [
    "def hist(name,title,xlabel,ylabel,arr):\n",
    "    fig, ax = plt.subplots(figsize=(12,8))\n",
    "\n",
    "\n",
    "    ax.hist(data[name], color='darkblue');\n",
    "    ax.set_title(title, fontsize=15)\n",
    "    ax.set_xlabel(xlabel, fontsize=12)\n",
    "    ax.set_ylabel(ylabel, fontsize=12)\n",
    "    plt.grid()\n",
    "    x_tick_labels=arr\n",
    "def get_grouped_values(data, names, figsize=(16, 7), bar_width=0.15,\n",
    "                       annotation=True, edgecolor='w', xcoord=5, ycoord=0, annotation_fontsize=10, bbox_color='white',\n",
    "                       unique_values=True, value_y=False, perc=False,\n",
    "                       color_list=False,\n",
    "                       label_xticks=False, rotation=0,\n",
    "                       title='', title_fontsize=15, facecolor='w',\n",
    "                       xlabel='', xlabel_size=12, ylabel='', ylabel_size=12,\n",
    "                       tick_size_x=10, tick_size_y=10,\n",
    "                       y_limit=False,\n",
    "                       ymin=0, ymax=0,\n",
    "                       legend=False, legend_labels=False):\n",
    "\n",
    "    \"\"\" What it does?\n",
    "        Input - dataframe and the list of the column name(s) which values you want to count\n",
    "        Output - graph with value counted blocks of each column\n",
    "\n",
    "       data - Dataframe\n",
    "       names - list of column names\n",
    "       figsize - size of a figure\n",
    "       bar_width - width of a bars\n",
    "       annotation - shows the values of each bar on the graph\n",
    "       edgecolor - color of the bar edges\n",
    "       xcoord - fixes x coordinates along the figure for the labels\n",
    "       ycoord - fixes y coordinates along the figure for the labels\n",
    "       annotation_fontsize - color of a annotation's font\n",
    "       bbox_color - color of a box\n",
    "       unique_values - default (True). Shows the unique values of the groups in annotation to the each bar\n",
    "       value_y - default (False). Show the values in numerical form \n",
    "       perc - default (True). Shows the values in a percentage form\n",
    "       color_list - default(False), input the list of colors for each bar\n",
    "       label_xticks - input list of values for the name of each group\n",
    "       rotation - rotation of x ticks\n",
    "       title - name of figure\n",
    "       title_fontsize - size of the main title name\n",
    "       facecolor - color of a graph's font\n",
    "       xlabel - label of x axis\n",
    "       xlabel_size - size of a x label\n",
    "       tick_size_x - size of x ticks\n",
    "       ylabel - label of y axis\n",
    "       ylabel_size - size of a y label\n",
    "       tick_size_y - size of y ticks\n",
    "       y_limit - default (False). Option to set limit of y axis\n",
    "       ymin - default 0\n",
    "       ymax - default - 0\n",
    "       legend - legend display option (default False)\n",
    "       legend_labels - input list of labels for legend (default False)\n",
    "       \"\"\"\n",
    "\n",
    " \n",
    "    total_values = []\n",
    "    for name in names:\n",
    "        grouped = data[name].value_counts().sort_values().reset_index()\n",
    "        for number in range(0, len(grouped)):\n",
    "            total_values.append(grouped[name][number])\n",
    "\n",
    "\n",
    "    unique_groups = []\n",
    "    for name in names:\n",
    "        unique_groups.append(\n",
    "            list(data[name].value_counts().sort_values().values))\n",
    "\n",
    "\n",
    "    max_length = max([len(x) for x in unique_groups])\n",
    "    null_filled = [x+[0]*(max_length-len(x)) for x in unique_groups]\n",
    "\n",
    "\n",
    "    super_list = []\n",
    "    for values in zip(*null_filled):\n",
    "        super_list.append(values)\n",
    "\n",
    "\n",
    "    reference_measure = np.arange(len(super_list[0]))\n",
    "    list_rm = list(reference_measure)\n",
    "\n",
    "\n",
    "    count = 0\n",
    "    while count < len(super_list):\n",
    "        count += 1\n",
    "        list_rm += list(reference_measure + bar_width*count)\n",
    "        if count == len(super_list):\n",
    "            break\n",
    "\n",
    "\n",
    "    x_coordinates = np.array_split(np.array(list_rm), len(super_list)+1)[:-1]\n",
    "\n",
    "\n",
    "    total_index = []\n",
    "    for name in names:\n",
    "        grouped = data[name].value_counts().sort_values().reset_index()\n",
    "        for number in range(0, len(grouped)):\n",
    "            total_index.append(grouped['index'][number])\n",
    "\n",
    "\n",
    "    index_groups = []\n",
    "    for name in names:\n",
    "        index_groups.append(\n",
    "            list(data[name].value_counts().sort_values().index))\n",
    "\n",
    "\n",
    "    max_length = max([len(x) for x in index_groups])\n",
    "    space_filled = [x+[None]*(max_length-len(x)) for x in index_groups]\n",
    "\n",
    "    super_index = []\n",
    "    for values in zip(*space_filled):\n",
    "        super_index.append(values)\n",
    "        \n",
    "        \n",
    "\n",
    "    pre_result_index = [item for x in super_index for item in x]\n",
    "    index_result = []\n",
    "    for element in pre_result_index:\n",
    "        if element is not None:\n",
    "            index_result.append(element)\n",
    "    iter_list = iter(index_result)\n",
    "    \n",
    "\n",
    "    # ПОСТРОЕНИЕ ГРАФИКА\n",
    "\n",
    "\n",
    "    fig, ax = plt.subplots(figsize=figsize)\n",
    "    barWidth = bar_width\n",
    "\n",
    "      \n",
    "    \n",
    "    if color_list == False:\n",
    "        for i in range(0, len(super_list)):\n",
    "            bars = ax.bar(x_coordinates[i], super_list[i],\n",
    "                      width=barWidth, label=str(i+1), edgecolor='w')\n",
    "            \n",
    "            sum_block = [sum(unique_groups[i]) for i in range(0, len(unique_groups))]\n",
    "            \n",
    "            # Аннотация + уникальные значения\n",
    "            if annotation is not False and unique_values is not False and value_y is False and perc is False:\n",
    "                for bar in bars:\n",
    "                    if bar.get_height() != 0:\n",
    "                        plt.text(bar.get_x() + bar.get_width()/xcoord, bar.get_y() + bar.get_height() + ycoord,\n",
    "                             '{}'.format(str(next(iter_list))),\n",
    "                             fontsize=annotation_fontsize, bbox=dict(facecolor=bbox_color))\n",
    "            \n",
    "            # Аннотация + уникальные значения + количество значений в процентном виде (1 способ задания этой комбинации)\n",
    "            elif annotation is not False and unique_values is not False and value_y is not False and perc is not False:\n",
    "                for number, bar in enumerate(bars):\n",
    "                    if bar.get_height() != 0:\n",
    "                        plt.text(bar.get_x() + bar.get_width()/xcoord, bar.get_y() + bar.get_height() + ycoord,\n",
    "                              '{}%{}{}'.format(round((bar.get_height()/sum_block[number])*100), '\\n', str(next(iter_list))),\n",
    "                             fontsize=annotation_fontsize, bbox=dict(facecolor=bbox_color))\n",
    "            \n",
    "            # Аннотация + уникальные значения + количество значений в процентном виде (2 способ задания этой комбинации)\n",
    "            elif annotation is not False and unique_values is not False and value_y is False and perc is not False:\n",
    "                for number, bar in enumerate(bars):\n",
    "                    if bar.get_height() != 0:\n",
    "                        plt.text(bar.get_x() + bar.get_width()/xcoord, bar.get_y() + bar.get_height() + ycoord,\n",
    "                              '{}%{}{}'.format(round((bar.get_height()/sum_block[number])*100), '\\n', str(next(iter_list))),\n",
    "                             fontsize=annotation_fontsize, bbox=dict(facecolor=bbox_color))\n",
    "            \n",
    "            \n",
    "            # Аннотация + уникальные значения + количество значений\n",
    "            elif annotation is not False and unique_values is not False and value_y is not False and perc is False:\n",
    "                for bar in bars:\n",
    "                    if bar.get_height() != 0:\n",
    "                        plt.text(bar.get_x() + bar.get_width()/xcoord, bar.get_y() + bar.get_height() + ycoord,\n",
    "                              '{}{}{}'.format(bar.get_height(), '\\n', str(next(iter_list))),\n",
    "                             fontsize=annotation_fontsize, bbox=dict(facecolor=bbox_color))\n",
    "                                                \n",
    "            # Аннотация + количество значений в процентном виде (1 способ задания этой комбинации)                    \n",
    "            elif annotation is not False and unique_values is False and value_y is not False and perc is not False: \n",
    "                for number, bar in enumerate(bars):\n",
    "                    if bar.get_height() != 0:\n",
    "                        plt.text(bar.get_x() + bar.get_width()/xcoord, bar.get_y() + bar.get_height() + ycoord,\n",
    "                              '{}%'.format(round((bar.get_height()/sum_block[number])*100)),\n",
    "                             fontsize=annotation_fontsize, bbox=dict(facecolor=bbox_color))             \n",
    "            \n",
    "            # Аннотация + количество значений в процентном виде (2 способ задания этой комбинации)\n",
    "            elif annotation is not False and unique_values is False and value_y is False and perc is not False:\n",
    "                for number, bar in enumerate(bars):\n",
    "                    if bar.get_height() != 0:\n",
    "                        plt.text(bar.get_x() + bar.get_width()/xcoord, bar.get_y() + bar.get_height() + ycoord,\n",
    "                              '{}%'.format(round((bar.get_height()/sum_block[number])*100)),\n",
    "                             fontsize=annotation_fontsize, bbox=dict(facecolor=bbox_color))\n",
    "                        \n",
    "            # Аннотация + количество значений           \n",
    "            elif annotation is not False and unique_values is False and value_y is not False and perc is False:\n",
    "                for bar in bars:\n",
    "                    if bar.get_height() != 0:\n",
    "                        plt.text(bar.get_x() + bar.get_width()/xcoord, bar.get_y() + bar.get_height() + ycoord,\n",
    "                              bar.get_height(),\n",
    "                             fontsize=annotation_fontsize, bbox=dict(facecolor=bbox_color))\n",
    "                        \n",
    "            # Отключение аннотации\n",
    "            else:\n",
    "                None\n",
    "\n",
    "    # Вывод значений с возможностью задать желаемые цвета каждому бару поочередно\n",
    "    else:\n",
    "        try:\n",
    "            for i in range(0, len(super_list)):\n",
    "                bars = ax.bar(x_coordinates[i], super_list[i],\n",
    "                              width=barWidth, color=color_list[i], label=str(i+1), edgecolor='w')\n",
    "\n",
    "                sum_block = [sum(unique_groups[i]) for i in range(0, len(unique_groups))]\n",
    "                \n",
    "                # Аннотация + уникальные значения\n",
    "                if annotation is not False and unique_values is not False and value_y is False and perc is False:\n",
    "                    for bar in bars:\n",
    "                        if bar.get_height() != 0:\n",
    "                            plt.text(bar.get_x() + bar.get_width()/xcoord, bar.get_y() + bar.get_height() + ycoord,\n",
    "                                 '{}'.format(str(next(iter_list))),\n",
    "                                 fontsize=annotation_fontsize, bbox=dict(facecolor=bbox_color))\n",
    "                            \n",
    "                # Аннотация + уникальные значения + количество значений в процентном виде\n",
    "                elif annotation is not False and unique_values is not False and value_y is not False and perc is not False:\n",
    "                    for number, bar in enumerate(bars):\n",
    "                        if bar.get_height() != 0:\n",
    "                            plt.text(bar.get_x() + bar.get_width()/xcoord, bar.get_y() + bar.get_height() + ycoord,\n",
    "                                  '{}%{}{}'.format(round((bar.get_height()/sum_block[number])*100), '\\n', str(next(iter_list))),\n",
    "                                 fontsize=annotation_fontsize, bbox=dict(facecolor=bbox_color))\n",
    "                            \n",
    "                # Аннотация + уникальные значения + количество значений в процентном виде (2 способ задания этой комбинации)\n",
    "                elif annotation is not False and unique_values is not False and value_y is False and perc is not False:\n",
    "                    for number, bar in enumerate(bars):\n",
    "                        if bar.get_height() != 0:\n",
    "                            plt.text(bar.get_x() + bar.get_width()/xcoord, bar.get_y() + bar.get_height() + ycoord,\n",
    "                                  '{}%{}{}'.format(round((bar.get_height()/sum_block[number])*100), '\\n', str(next(iter_list))),\n",
    "                                 fontsize=annotation_fontsize, bbox=dict(facecolor=bbox_color))\n",
    "                            \n",
    "                # Аннотация + уникальные значения + количество значений \n",
    "                elif annotation is not False and unique_values is not False and value_y is not False and perc is False:\n",
    "                    for bar in bars:\n",
    "                        if bar.get_height() != 0:\n",
    "                            plt.text(bar.get_x() + bar.get_width()/xcoord, bar.get_y() + bar.get_height() + ycoord,\n",
    "                                  '{}{}{}'.format(bar.get_height(), '\\n', str(next(iter_list))),\n",
    "                                 fontsize=annotation_fontsize, bbox=dict(facecolor=bbox_color))\n",
    "                                     \n",
    "                                     \n",
    "                # Аннотация + количество значений в процентном виде (1 способ задания этой комбинации)                    \n",
    "                elif annotation is not False and unique_values is False and value_y is not False and perc is not False: \n",
    "                    for number, bar in enumerate(bars):\n",
    "                        if bar.get_height() != 0:\n",
    "                            plt.text(bar.get_x() + bar.get_width()/xcoord, bar.get_y() + bar.get_height() + ycoord,\n",
    "                                  '{}%'.format(round((bar.get_height()/sum_block[number])*100)),\n",
    "                                 fontsize=annotation_fontsize, bbox=dict(facecolor=bbox_color))                \n",
    "                                     \n",
    "                                     \n",
    "                                     \n",
    "                # Аннотация + количество значений в процентном виде (2 способ задания этой комбинации)\n",
    "                elif annotation is not False and unique_values is False and value_y is False and perc is not False:\n",
    "                    for number, bar in enumerate(bars):\n",
    "                        if bar.get_height() != 0:\n",
    "                            plt.text(bar.get_x() + bar.get_width()/xcoord, bar.get_y() + bar.get_height() + ycoord,\n",
    "                                  '{}%'.format(round((bar.get_height()/sum_block[number])*100)),\n",
    "                                 fontsize=annotation_fontsize, bbox=dict(facecolor=bbox_color))\n",
    "                \n",
    "                # Аннотация + количество значений в процентном виде (3 способ задания этой комбинации)\n",
    "                elif annotation is not False and unique_values is not False and value_y is False and perc is not False:\n",
    "                    for number, bar in enumerate(bars):\n",
    "                        if bar.get_height() != 0:\n",
    "                            plt.text(bar.get_x() + bar.get_width()/xcoord, bar.get_y() + bar.get_height() + ycoord,\n",
    "                                  '{}%'.format(round((bar.get_height()/sum_block[number])*100)),\n",
    "                                 fontsize=annotation_fontsize, bbox=dict(facecolor=bbox_color))\n",
    "    \n",
    "                 # Аннотация + количество значений\n",
    "                elif annotation is not False and unique_values is False and value_y  is not False and perc is False:\n",
    "                    for bar in bars:\n",
    "                        if bar.get_height() != 0:\n",
    "                            plt.text(bar.get_x() + bar.get_width()/xcoord, bar.get_y() + bar.get_height() + ycoord,\n",
    "                                  bar.get_height(),\n",
    "                                 fontsize=annotation_fontsize, bbox=dict(facecolor=bbox_color))\n",
    "                \n",
    "                # Отключение аннотации\n",
    "                else:\n",
    "                    None\n",
    "\n",
    "\n",
    "        except IndexError:\n",
    "             print('Для корректной работы функции Вам необходимо дополнить список color_list еще',\n",
    "                   len(super_list) - len(color_list), 'цветом(ами).', '\\n',\n",
    "                   'Вы можете выбрать цвета в данном каталоге: https://matplotlib.org/3.1.0/gallery/color/named_colors.html'\n",
    "                  '\\n', 'For the function to work correctly, You should add',\n",
    "                   len(super_list) - \\\n",
    "                       len(color_list), 'more value(s) in color_list.', '\\n',\n",
    "                   'You can choose colors in the following catalog:',\n",
    "                   'https://matplotlib.org/3.1.0/gallery/color/named_colors.html')\n",
    "\n",
    "\n",
    "\n",
    "\n",
    "\n",
    "    if label_xticks == False:\n",
    "        plt.xticks([x + barWidth for x in range(len(bars))], rotation=rotation)\n",
    "    else:\n",
    "        plt.xticks([x + barWidth for x in range(len(bars))], label_xticks, rotation=rotation)\n",
    "\n",
    "\n",
    "\n",
    "    # Дополнительные параметры графика\n",
    "    ax.set_title(title, fontsize=title_fontsize)\n",
    "    ax.set_facecolor(facecolor)\n",
    "    ax.set_xlabel(xlabel, fontsize=xlabel_size)\n",
    "    ax.set_ylabel(ylabel, fontsize=ylabel_size)\n",
    "    ax.tick_params(axis=\"x\", labelsize=tick_size_x)\n",
    "    ax.tick_params(axis=\"y\", labelsize=tick_size_y)\n",
    "   \n",
    "    \n",
    "    if y_limit is not False:\n",
    "        ax.set_ylim([ymin,ymax])\n",
    "\n",
    "\n",
    "    # Возможность вывода легенды на график\n",
    "    if legend is not False and legend_labels is False:\n",
    "        ax.legend(super_index)\n",
    "    elif legend is not False and legend_labels is not False:\n",
    "        ax.legend(legend_labels)\n",
    "    else:\n",
    "        None\n"
   ]
  },
  {
   "cell_type": "markdown",
   "metadata": {},
   "source": [
    "# 1.Первичный осмотр данных\n",
    "****\n",
    "### Раздел 1\n",
    "Импортируем нужные для чтения и первичного анализа библиотеки и прочитаем файл"
   ]
  },
  {
   "cell_type": "code",
   "execution_count": 358,
   "metadata": {},
   "outputs": [],
   "source": [
    "import pandas as pd\n",
    "import numpy as np\n",
    "import matplotlib.pyplot as plt\n",
    "import seaborn as sns\n",
    "from itertools import combinations \n",
    "from scipy.stats import ttest_ind\n",
    "\n",
    "\n",
    "pd.set_option('display.max_rows',50)\n",
    "pd.set_option('display.max_columns',50)\n",
    "\n",
    "data=pd.read_csv('stud_math.csv')"
   ]
  },
  {
   "cell_type": "markdown",
   "metadata": {},
   "source": [
    "Выведем на экран первые 10 строк датасета,а также информацию о данных файла.Узнаем какие типы данных у столбцов "
   ]
  },
  {
   "cell_type": "code",
   "execution_count": 359,
   "metadata": {},
   "outputs": [
    {
     "data": {
      "text/html": [
       "<div>\n",
       "<style scoped>\n",
       "    .dataframe tbody tr th:only-of-type {\n",
       "        vertical-align: middle;\n",
       "    }\n",
       "\n",
       "    .dataframe tbody tr th {\n",
       "        vertical-align: top;\n",
       "    }\n",
       "\n",
       "    .dataframe thead th {\n",
       "        text-align: right;\n",
       "    }\n",
       "</style>\n",
       "<table border=\"1\" class=\"dataframe\">\n",
       "  <thead>\n",
       "    <tr style=\"text-align: right;\">\n",
       "      <th></th>\n",
       "      <th>school</th>\n",
       "      <th>sex</th>\n",
       "      <th>age</th>\n",
       "      <th>address</th>\n",
       "      <th>famsize</th>\n",
       "      <th>Pstatus</th>\n",
       "      <th>Medu</th>\n",
       "      <th>Fedu</th>\n",
       "      <th>Mjob</th>\n",
       "      <th>Fjob</th>\n",
       "      <th>reason</th>\n",
       "      <th>guardian</th>\n",
       "      <th>traveltime</th>\n",
       "      <th>studytime</th>\n",
       "      <th>failures</th>\n",
       "      <th>schoolsup</th>\n",
       "      <th>famsup</th>\n",
       "      <th>paid</th>\n",
       "      <th>activities</th>\n",
       "      <th>nursery</th>\n",
       "      <th>studytime, granular</th>\n",
       "      <th>higher</th>\n",
       "      <th>internet</th>\n",
       "      <th>romantic</th>\n",
       "      <th>famrel</th>\n",
       "      <th>freetime</th>\n",
       "      <th>goout</th>\n",
       "      <th>health</th>\n",
       "      <th>absences</th>\n",
       "      <th>score</th>\n",
       "    </tr>\n",
       "  </thead>\n",
       "  <tbody>\n",
       "    <tr>\n",
       "      <td>0</td>\n",
       "      <td>GP</td>\n",
       "      <td>F</td>\n",
       "      <td>18</td>\n",
       "      <td>U</td>\n",
       "      <td>NaN</td>\n",
       "      <td>A</td>\n",
       "      <td>4.0</td>\n",
       "      <td>4.0</td>\n",
       "      <td>at_home</td>\n",
       "      <td>teacher</td>\n",
       "      <td>course</td>\n",
       "      <td>mother</td>\n",
       "      <td>2.0</td>\n",
       "      <td>2.0</td>\n",
       "      <td>0.0</td>\n",
       "      <td>yes</td>\n",
       "      <td>no</td>\n",
       "      <td>no</td>\n",
       "      <td>no</td>\n",
       "      <td>yes</td>\n",
       "      <td>-6.0</td>\n",
       "      <td>yes</td>\n",
       "      <td>NaN</td>\n",
       "      <td>no</td>\n",
       "      <td>4.0</td>\n",
       "      <td>3.0</td>\n",
       "      <td>4.0</td>\n",
       "      <td>3.0</td>\n",
       "      <td>6.0</td>\n",
       "      <td>30.0</td>\n",
       "    </tr>\n",
       "    <tr>\n",
       "      <td>1</td>\n",
       "      <td>GP</td>\n",
       "      <td>F</td>\n",
       "      <td>17</td>\n",
       "      <td>U</td>\n",
       "      <td>GT3</td>\n",
       "      <td>NaN</td>\n",
       "      <td>1.0</td>\n",
       "      <td>1.0</td>\n",
       "      <td>at_home</td>\n",
       "      <td>other</td>\n",
       "      <td>course</td>\n",
       "      <td>father</td>\n",
       "      <td>1.0</td>\n",
       "      <td>2.0</td>\n",
       "      <td>0.0</td>\n",
       "      <td>no</td>\n",
       "      <td>yes</td>\n",
       "      <td>no</td>\n",
       "      <td>no</td>\n",
       "      <td>no</td>\n",
       "      <td>-6.0</td>\n",
       "      <td>yes</td>\n",
       "      <td>yes</td>\n",
       "      <td>no</td>\n",
       "      <td>5.0</td>\n",
       "      <td>3.0</td>\n",
       "      <td>3.0</td>\n",
       "      <td>3.0</td>\n",
       "      <td>4.0</td>\n",
       "      <td>30.0</td>\n",
       "    </tr>\n",
       "    <tr>\n",
       "      <td>2</td>\n",
       "      <td>GP</td>\n",
       "      <td>F</td>\n",
       "      <td>15</td>\n",
       "      <td>U</td>\n",
       "      <td>LE3</td>\n",
       "      <td>T</td>\n",
       "      <td>1.0</td>\n",
       "      <td>1.0</td>\n",
       "      <td>at_home</td>\n",
       "      <td>other</td>\n",
       "      <td>other</td>\n",
       "      <td>mother</td>\n",
       "      <td>1.0</td>\n",
       "      <td>2.0</td>\n",
       "      <td>3.0</td>\n",
       "      <td>yes</td>\n",
       "      <td>no</td>\n",
       "      <td>NaN</td>\n",
       "      <td>no</td>\n",
       "      <td>yes</td>\n",
       "      <td>-6.0</td>\n",
       "      <td>yes</td>\n",
       "      <td>yes</td>\n",
       "      <td>NaN</td>\n",
       "      <td>4.0</td>\n",
       "      <td>3.0</td>\n",
       "      <td>2.0</td>\n",
       "      <td>3.0</td>\n",
       "      <td>10.0</td>\n",
       "      <td>50.0</td>\n",
       "    </tr>\n",
       "    <tr>\n",
       "      <td>3</td>\n",
       "      <td>GP</td>\n",
       "      <td>F</td>\n",
       "      <td>15</td>\n",
       "      <td>U</td>\n",
       "      <td>GT3</td>\n",
       "      <td>T</td>\n",
       "      <td>4.0</td>\n",
       "      <td>2.0</td>\n",
       "      <td>health</td>\n",
       "      <td>NaN</td>\n",
       "      <td>home</td>\n",
       "      <td>mother</td>\n",
       "      <td>1.0</td>\n",
       "      <td>3.0</td>\n",
       "      <td>0.0</td>\n",
       "      <td>no</td>\n",
       "      <td>yes</td>\n",
       "      <td>yes</td>\n",
       "      <td>yes</td>\n",
       "      <td>yes</td>\n",
       "      <td>-9.0</td>\n",
       "      <td>yes</td>\n",
       "      <td>yes</td>\n",
       "      <td>yes</td>\n",
       "      <td>3.0</td>\n",
       "      <td>2.0</td>\n",
       "      <td>2.0</td>\n",
       "      <td>5.0</td>\n",
       "      <td>2.0</td>\n",
       "      <td>75.0</td>\n",
       "    </tr>\n",
       "    <tr>\n",
       "      <td>4</td>\n",
       "      <td>GP</td>\n",
       "      <td>F</td>\n",
       "      <td>16</td>\n",
       "      <td>U</td>\n",
       "      <td>GT3</td>\n",
       "      <td>T</td>\n",
       "      <td>3.0</td>\n",
       "      <td>3.0</td>\n",
       "      <td>other</td>\n",
       "      <td>other</td>\n",
       "      <td>home</td>\n",
       "      <td>father</td>\n",
       "      <td>1.0</td>\n",
       "      <td>2.0</td>\n",
       "      <td>0.0</td>\n",
       "      <td>no</td>\n",
       "      <td>yes</td>\n",
       "      <td>yes</td>\n",
       "      <td>no</td>\n",
       "      <td>yes</td>\n",
       "      <td>-6.0</td>\n",
       "      <td>yes</td>\n",
       "      <td>no</td>\n",
       "      <td>no</td>\n",
       "      <td>4.0</td>\n",
       "      <td>3.0</td>\n",
       "      <td>2.0</td>\n",
       "      <td>5.0</td>\n",
       "      <td>4.0</td>\n",
       "      <td>50.0</td>\n",
       "    </tr>\n",
       "    <tr>\n",
       "      <td>5</td>\n",
       "      <td>GP</td>\n",
       "      <td>M</td>\n",
       "      <td>16</td>\n",
       "      <td>U</td>\n",
       "      <td>LE3</td>\n",
       "      <td>T</td>\n",
       "      <td>4.0</td>\n",
       "      <td>3.0</td>\n",
       "      <td>services</td>\n",
       "      <td>other</td>\n",
       "      <td>reputation</td>\n",
       "      <td>mother</td>\n",
       "      <td>1.0</td>\n",
       "      <td>2.0</td>\n",
       "      <td>0.0</td>\n",
       "      <td>no</td>\n",
       "      <td>yes</td>\n",
       "      <td>yes</td>\n",
       "      <td>yes</td>\n",
       "      <td>yes</td>\n",
       "      <td>-6.0</td>\n",
       "      <td>yes</td>\n",
       "      <td>yes</td>\n",
       "      <td>no</td>\n",
       "      <td>5.0</td>\n",
       "      <td>4.0</td>\n",
       "      <td>2.0</td>\n",
       "      <td>5.0</td>\n",
       "      <td>10.0</td>\n",
       "      <td>75.0</td>\n",
       "    </tr>\n",
       "    <tr>\n",
       "      <td>6</td>\n",
       "      <td>GP</td>\n",
       "      <td>M</td>\n",
       "      <td>16</td>\n",
       "      <td>NaN</td>\n",
       "      <td>LE3</td>\n",
       "      <td>T</td>\n",
       "      <td>2.0</td>\n",
       "      <td>2.0</td>\n",
       "      <td>other</td>\n",
       "      <td>other</td>\n",
       "      <td>home</td>\n",
       "      <td>mother</td>\n",
       "      <td>1.0</td>\n",
       "      <td>2.0</td>\n",
       "      <td>0.0</td>\n",
       "      <td>no</td>\n",
       "      <td>no</td>\n",
       "      <td>no</td>\n",
       "      <td>no</td>\n",
       "      <td>yes</td>\n",
       "      <td>-6.0</td>\n",
       "      <td>yes</td>\n",
       "      <td>yes</td>\n",
       "      <td>no</td>\n",
       "      <td>4.0</td>\n",
       "      <td>4.0</td>\n",
       "      <td>4.0</td>\n",
       "      <td>3.0</td>\n",
       "      <td>0.0</td>\n",
       "      <td>55.0</td>\n",
       "    </tr>\n",
       "    <tr>\n",
       "      <td>7</td>\n",
       "      <td>GP</td>\n",
       "      <td>F</td>\n",
       "      <td>17</td>\n",
       "      <td>U</td>\n",
       "      <td>GT3</td>\n",
       "      <td>A</td>\n",
       "      <td>4.0</td>\n",
       "      <td>4.0</td>\n",
       "      <td>other</td>\n",
       "      <td>teacher</td>\n",
       "      <td>home</td>\n",
       "      <td>mother</td>\n",
       "      <td>2.0</td>\n",
       "      <td>2.0</td>\n",
       "      <td>0.0</td>\n",
       "      <td>yes</td>\n",
       "      <td>yes</td>\n",
       "      <td>no</td>\n",
       "      <td>no</td>\n",
       "      <td>yes</td>\n",
       "      <td>-6.0</td>\n",
       "      <td>yes</td>\n",
       "      <td>no</td>\n",
       "      <td>no</td>\n",
       "      <td>4.0</td>\n",
       "      <td>1.0</td>\n",
       "      <td>4.0</td>\n",
       "      <td>1.0</td>\n",
       "      <td>6.0</td>\n",
       "      <td>30.0</td>\n",
       "    </tr>\n",
       "    <tr>\n",
       "      <td>8</td>\n",
       "      <td>GP</td>\n",
       "      <td>M</td>\n",
       "      <td>15</td>\n",
       "      <td>U</td>\n",
       "      <td>LE3</td>\n",
       "      <td>A</td>\n",
       "      <td>3.0</td>\n",
       "      <td>2.0</td>\n",
       "      <td>services</td>\n",
       "      <td>other</td>\n",
       "      <td>home</td>\n",
       "      <td>mother</td>\n",
       "      <td>1.0</td>\n",
       "      <td>2.0</td>\n",
       "      <td>0.0</td>\n",
       "      <td>no</td>\n",
       "      <td>yes</td>\n",
       "      <td>yes</td>\n",
       "      <td>no</td>\n",
       "      <td>yes</td>\n",
       "      <td>-6.0</td>\n",
       "      <td>yes</td>\n",
       "      <td>yes</td>\n",
       "      <td>no</td>\n",
       "      <td>NaN</td>\n",
       "      <td>2.0</td>\n",
       "      <td>2.0</td>\n",
       "      <td>1.0</td>\n",
       "      <td>0.0</td>\n",
       "      <td>95.0</td>\n",
       "    </tr>\n",
       "    <tr>\n",
       "      <td>9</td>\n",
       "      <td>GP</td>\n",
       "      <td>M</td>\n",
       "      <td>15</td>\n",
       "      <td>U</td>\n",
       "      <td>NaN</td>\n",
       "      <td>NaN</td>\n",
       "      <td>3.0</td>\n",
       "      <td>4.0</td>\n",
       "      <td>other</td>\n",
       "      <td>other</td>\n",
       "      <td>home</td>\n",
       "      <td>mother</td>\n",
       "      <td>1.0</td>\n",
       "      <td>2.0</td>\n",
       "      <td>0.0</td>\n",
       "      <td>no</td>\n",
       "      <td>yes</td>\n",
       "      <td>yes</td>\n",
       "      <td>yes</td>\n",
       "      <td>yes</td>\n",
       "      <td>-6.0</td>\n",
       "      <td>yes</td>\n",
       "      <td>yes</td>\n",
       "      <td>no</td>\n",
       "      <td>5.0</td>\n",
       "      <td>5.0</td>\n",
       "      <td>1.0</td>\n",
       "      <td>5.0</td>\n",
       "      <td>0.0</td>\n",
       "      <td>75.0</td>\n",
       "    </tr>\n",
       "  </tbody>\n",
       "</table>\n",
       "</div>"
      ],
      "text/plain": [
       "  school sex  age address famsize Pstatus  Medu  Fedu      Mjob     Fjob  \\\n",
       "0     GP   F   18       U     NaN       A   4.0   4.0   at_home  teacher   \n",
       "1     GP   F   17       U     GT3     NaN   1.0   1.0   at_home    other   \n",
       "2     GP   F   15       U     LE3       T   1.0   1.0   at_home    other   \n",
       "3     GP   F   15       U     GT3       T   4.0   2.0    health      NaN   \n",
       "4     GP   F   16       U     GT3       T   3.0   3.0     other    other   \n",
       "5     GP   M   16       U     LE3       T   4.0   3.0  services    other   \n",
       "6     GP   M   16     NaN     LE3       T   2.0   2.0     other    other   \n",
       "7     GP   F   17       U     GT3       A   4.0   4.0     other  teacher   \n",
       "8     GP   M   15       U     LE3       A   3.0   2.0  services    other   \n",
       "9     GP   M   15       U     NaN     NaN   3.0   4.0     other    other   \n",
       "\n",
       "       reason guardian  traveltime  studytime  failures schoolsup famsup paid  \\\n",
       "0      course   mother         2.0        2.0       0.0       yes     no   no   \n",
       "1      course   father         1.0        2.0       0.0        no    yes   no   \n",
       "2       other   mother         1.0        2.0       3.0       yes     no  NaN   \n",
       "3        home   mother         1.0        3.0       0.0        no    yes  yes   \n",
       "4        home   father         1.0        2.0       0.0        no    yes  yes   \n",
       "5  reputation   mother         1.0        2.0       0.0        no    yes  yes   \n",
       "6        home   mother         1.0        2.0       0.0        no     no   no   \n",
       "7        home   mother         2.0        2.0       0.0       yes    yes   no   \n",
       "8        home   mother         1.0        2.0       0.0        no    yes  yes   \n",
       "9        home   mother         1.0        2.0       0.0        no    yes  yes   \n",
       "\n",
       "  activities nursery  studytime, granular higher internet romantic  famrel  \\\n",
       "0         no     yes                 -6.0    yes      NaN       no     4.0   \n",
       "1         no      no                 -6.0    yes      yes       no     5.0   \n",
       "2         no     yes                 -6.0    yes      yes      NaN     4.0   \n",
       "3        yes     yes                 -9.0    yes      yes      yes     3.0   \n",
       "4         no     yes                 -6.0    yes       no       no     4.0   \n",
       "5        yes     yes                 -6.0    yes      yes       no     5.0   \n",
       "6         no     yes                 -6.0    yes      yes       no     4.0   \n",
       "7         no     yes                 -6.0    yes       no       no     4.0   \n",
       "8         no     yes                 -6.0    yes      yes       no     NaN   \n",
       "9        yes     yes                 -6.0    yes      yes       no     5.0   \n",
       "\n",
       "   freetime  goout  health  absences  score  \n",
       "0       3.0    4.0     3.0       6.0   30.0  \n",
       "1       3.0    3.0     3.0       4.0   30.0  \n",
       "2       3.0    2.0     3.0      10.0   50.0  \n",
       "3       2.0    2.0     5.0       2.0   75.0  \n",
       "4       3.0    2.0     5.0       4.0   50.0  \n",
       "5       4.0    2.0     5.0      10.0   75.0  \n",
       "6       4.0    4.0     3.0       0.0   55.0  \n",
       "7       1.0    4.0     1.0       6.0   30.0  \n",
       "8       2.0    2.0     1.0       0.0   95.0  \n",
       "9       5.0    1.0     5.0       0.0   75.0  "
      ]
     },
     "metadata": {},
     "output_type": "display_data"
    },
    {
     "name": "stdout",
     "output_type": "stream",
     "text": [
      "<class 'pandas.core.frame.DataFrame'>\n",
      "RangeIndex: 395 entries, 0 to 394\n",
      "Data columns (total 30 columns):\n",
      "school                 395 non-null object\n",
      "sex                    395 non-null object\n",
      "age                    395 non-null int64\n",
      "address                378 non-null object\n",
      "famsize                368 non-null object\n",
      "Pstatus                350 non-null object\n",
      "Medu                   392 non-null float64\n",
      "Fedu                   371 non-null float64\n",
      "Mjob                   376 non-null object\n",
      "Fjob                   359 non-null object\n",
      "reason                 378 non-null object\n",
      "guardian               364 non-null object\n",
      "traveltime             367 non-null float64\n",
      "studytime              388 non-null float64\n",
      "failures               373 non-null float64\n",
      "schoolsup              386 non-null object\n",
      "famsup                 356 non-null object\n",
      "paid                   355 non-null object\n",
      "activities             381 non-null object\n",
      "nursery                379 non-null object\n",
      "studytime, granular    388 non-null float64\n",
      "higher                 375 non-null object\n",
      "internet               361 non-null object\n",
      "romantic               364 non-null object\n",
      "famrel                 368 non-null float64\n",
      "freetime               384 non-null float64\n",
      "goout                  387 non-null float64\n",
      "health                 380 non-null float64\n",
      "absences               383 non-null float64\n",
      "score                  389 non-null float64\n",
      "dtypes: float64(12), int64(1), object(17)\n",
      "memory usage: 92.7+ KB\n"
     ]
    }
   ],
   "source": [
    "display(data.head(10))\n",
    "data.info()"
   ]
  },
  {
   "cell_type": "code",
   "execution_count": 360,
   "metadata": {},
   "outputs": [],
   "source": [
    "data.columns=data.columns.str.lower()"
   ]
  },
  {
   "cell_type": "code",
   "execution_count": 361,
   "metadata": {},
   "outputs": [],
   "source": [
    "data = data.drop(['studytime, granular'], axis=1)"
   ]
  },
  {
   "cell_type": "markdown",
   "metadata": {},
   "source": [
    "Из выше выведенного нам известно,что в датасете 13 числовых столбцов и 17 строковых.Также можно заметить,что во многих столбцах имеются пропуски ,но с этим разберёмся позже.Плюс ко всему для удобства следует привести названия колонок к нижнему регистру."
   ]
  },
  {
   "cell_type": "code",
   "execution_count": 362,
   "metadata": {},
   "outputs": [],
   "source": [
    "data.columns=map(str.lower, data.columns)#Переводим названия столбцов в нижний регистр"
   ]
  },
  {
   "cell_type": "markdown",
   "metadata": {},
   "source": [
    "\n",
    "Следующим шагом будет проверка данных на дублированные/полностью скоррелированные значения"
   ]
  },
  {
   "cell_type": "code",
   "execution_count": 363,
   "metadata": {},
   "outputs": [
    {
     "data": {
      "text/plain": [
       "0"
      ]
     },
     "execution_count": 363,
     "metadata": {},
     "output_type": "execute_result"
    }
   ],
   "source": [
    "data.duplicated().sum()"
   ]
  },
  {
   "cell_type": "code",
   "execution_count": 364,
   "metadata": {},
   "outputs": [],
   "source": [
    "\n",
    "df = df.where(df.notnull(),None)"
   ]
  },
  {
   "cell_type": "code",
   "execution_count": 365,
   "metadata": {},
   "outputs": [],
   "source": [
    "\n",
    "data[['medu','fedu','traveltime','studytime','failures','famrel','freetime',\n",
    "   'goout','health','absences','score']] = data[['medu','fedu','traveltime','studytime','failures','famrel','freetime',\n",
    "   'goout','health','absences','score']].apply(pd.to_numeric)"
   ]
  },
  {
   "cell_type": "markdown",
   "metadata": {},
   "source": [
    "###  Раздел 2"
   ]
  },
  {
   "cell_type": "markdown",
   "metadata": {},
   "source": [
    "Выведем для удобства все столбцы\n"
   ]
  },
  {
   "cell_type": "code",
   "execution_count": null,
   "metadata": {},
   "outputs": [],
   "source": []
  },
  {
   "cell_type": "code",
   "execution_count": 366,
   "metadata": {},
   "outputs": [
    {
     "data": {
      "text/plain": [
       "Index(['school', 'sex', 'age', 'address', 'famsize', 'pstatus', 'medu', 'fedu',\n",
       "       'mjob', 'fjob', 'reason', 'guardian', 'traveltime', 'studytime',\n",
       "       'failures', 'schoolsup', 'famsup', 'paid', 'activities', 'nursery',\n",
       "       'higher', 'internet', 'romantic', 'famrel', 'freetime', 'goout',\n",
       "       'health', 'absences', 'score'],\n",
       "      dtype='object')"
      ]
     },
     "execution_count": 366,
     "metadata": {},
     "output_type": "execute_result"
    }
   ],
   "source": [
    "data.columns"
   ]
  },
  {
   "cell_type": "markdown",
   "metadata": {},
   "source": [
    "Теперь рассмотрим каждый столбец номенативной переменной в отдельности ,начав со школы"
   ]
  },
  {
   "cell_type": "code",
   "execution_count": 367,
   "metadata": {},
   "outputs": [
    {
     "data": {
      "text/plain": [
       "array(['GP', 'MS'], dtype=object)"
      ]
     },
     "execution_count": 367,
     "metadata": {},
     "output_type": "execute_result"
    }
   ],
   "source": [
    "data.school.unique()"
   ]
  },
  {
   "cell_type": "code",
   "execution_count": 368,
   "metadata": {},
   "outputs": [
    {
     "data": {
      "text/plain": [
       "GP    349\n",
       "MS     46\n",
       "Name: school, dtype: int64"
      ]
     },
     "execution_count": 368,
     "metadata": {},
     "output_type": "execute_result"
    }
   ],
   "source": [
    "data.school.value_counts()"
   ]
  },
  {
   "cell_type": "code",
   "execution_count": 369,
   "metadata": {},
   "outputs": [
    {
     "data": {
      "text/plain": [
       "<matplotlib.axes._subplots.AxesSubplot at 0x206a15f0898>"
      ]
     },
     "execution_count": 369,
     "metadata": {},
     "output_type": "execute_result"
    },
    {
     "data": {
      "image/png": "[encoded data removed]",
      "text/plain": [
       "<Figure size 432x288 with 1 Axes>"
      ]
     },
     "metadata": {
      "needs_background": "light"
     },
     "output_type": "display_data"
    }
   ],
   "source": [
    "data.school.hist()"
   ]
  },
  {
   "cell_type": "markdown",
   "metadata": {},
   "source": [
    "В датасете присутствует информация об учениках только двух школ,и примерно 88% занимает школа GP.Сам столбец пропусков не имеет"
   ]
  },
  {
   "cell_type": "markdown",
   "metadata": {},
   "source": [
    "# Sex\n",
    "Очевидно ,что в данном столбце будет иметь место только два значения.Узнаем их соотношение.Также нам известно из 1 пункта плана ,что данный столбец пропусков не имеет "
   ]
  },
  {
   "cell_type": "code",
   "execution_count": 370,
   "metadata": {},
   "outputs": [
    {
     "data": {
      "text/plain": [
       "array(['F', 'M'], dtype=object)"
      ]
     },
     "execution_count": 370,
     "metadata": {},
     "output_type": "execute_result"
    }
   ],
   "source": [
    "data.sex.unique()"
   ]
  },
  {
   "cell_type": "code",
   "execution_count": 371,
   "metadata": {},
   "outputs": [
    {
     "data": {
      "text/plain": [
       "F    208\n",
       "M    187\n",
       "Name: sex, dtype: int64"
      ]
     },
     "execution_count": 371,
     "metadata": {},
     "output_type": "execute_result"
    }
   ],
   "source": [
    "data.sex.value_counts()"
   ]
  },
  {
   "cell_type": "markdown",
   "metadata": {},
   "source": [
    "# Age\n"
   ]
  },
  {
   "cell_type": "markdown",
   "metadata": {},
   "source": [
    "Аудитория ,рассматриваемая в данном датасете, имеет возрастной промежуток 15-22 года.Столбец пропусков не имеет"
   ]
  },
  {
   "cell_type": "code",
   "execution_count": 372,
   "metadata": {},
   "outputs": [
    {
     "data": {
      "text/plain": [
       "16    104\n",
       "17     98\n",
       "18     82\n",
       "15     82\n",
       "19     24\n",
       "20      3\n",
       "22      1\n",
       "21      1\n",
       "Name: age, dtype: int64"
      ]
     },
     "execution_count": 372,
     "metadata": {},
     "output_type": "execute_result"
    }
   ],
   "source": [
    "data.age.value_counts()"
   ]
  },
  {
   "cell_type": "code",
   "execution_count": 373,
   "metadata": {},
   "outputs": [
    {
     "data": {
      "image/png": "[encoded data removed]",
      "text/plain": [
       "<Figure size 864x576 with 1 Axes>"
      ]
     },
     "metadata": {
      "needs_background": "light"
     },
     "output_type": "display_data"
    }
   ],
   "source": [
    "hist('age','Распределение возраста учеников','Возраст учеников','Количество учеников',data.age.unique())"
   ]
  },
  {
   "cell_type": "markdown",
   "metadata": {},
   "source": [
    "В аудитории преобладает возрастная категория 15-18 лет, соответствующая подростковой.Если оценивать относительно русских школ,то это 9-11 класс(старшие классы).Я считаю,что выбросы 20,21,22 окажут не сильное влияние на модель,поэтому можно избавиться от них"
   ]
  },
  {
   "cell_type": "code",
   "execution_count": 374,
   "metadata": {},
   "outputs": [],
   "source": [
    "data=data[data['age']<=18]"
   ]
  },
  {
   "cell_type": "code",
   "execution_count": 375,
   "metadata": {},
   "outputs": [
    {
     "data": {
      "image/png": "[encoded data removed]",
      "text/plain": [
       "<Figure size 864x576 with 1 Axes>"
      ]
     },
     "metadata": {
      "needs_background": "light"
     },
     "output_type": "display_data"
    }
   ],
   "source": [
    "hist('age','Распределение возраста учеников','Возраст учеников','Количество учеников',data.age.unique())"
   ]
  },
  {
   "cell_type": "markdown",
   "metadata": {},
   "source": [
    "# Address"
   ]
  },
  {
   "cell_type": "code",
   "execution_count": 376,
   "metadata": {},
   "outputs": [
    {
     "data": {
      "text/plain": [
       "0      U\n",
       "1      U\n",
       "2      U\n",
       "3      U\n",
       "4      U\n",
       "      ..\n",
       "386    R\n",
       "388    U\n",
       "389    U\n",
       "391    U\n",
       "393    R\n",
       "Name: address, Length: 366, dtype: object"
      ]
     },
     "execution_count": 376,
     "metadata": {},
     "output_type": "execute_result"
    }
   ],
   "source": [
    "data.address"
   ]
  },
  {
   "cell_type": "code",
   "execution_count": 377,
   "metadata": {},
   "outputs": [
    {
     "name": "stdout",
     "output_type": "stream",
     "text": [
      "<class 'pandas.core.frame.DataFrame'>\n",
      "Int64Index: 366 entries, 0 to 393\n",
      "Data columns (total 1 columns):\n",
      "address    352 non-null object\n",
      "dtypes: object(1)\n",
      "memory usage: 5.7+ KB\n"
     ]
    }
   ],
   "source": [
    "data.loc[:, ['address']].info()"
   ]
  },
  {
   "cell_type": "code",
   "execution_count": 378,
   "metadata": {},
   "outputs": [
    {
     "data": {
      "text/plain": [
       "U    276\n",
       "R     76\n",
       "Name: address, dtype: int64"
      ]
     },
     "execution_count": 378,
     "metadata": {},
     "output_type": "execute_result"
    }
   ],
   "source": [
    "data.address.value_counts()"
   ]
  },
  {
   "cell_type": "code",
   "execution_count": 379,
   "metadata": {},
   "outputs": [],
   "source": [
    "data.address=data.address.astype(str).apply(lambda x: None if x.strip()=='nan' else x)"
   ]
  },
  {
   "cell_type": "code",
   "execution_count": 380,
   "metadata": {},
   "outputs": [
    {
     "data": {
      "text/plain": [
       "0       U\n",
       "1       U\n",
       "2       U\n",
       "3       U\n",
       "4       U\n",
       "5       U\n",
       "6    None\n",
       "7       U\n",
       "8       U\n",
       "9       U\n",
       "Name: address, dtype: object"
      ]
     },
     "execution_count": 380,
     "metadata": {},
     "output_type": "execute_result"
    }
   ],
   "source": [
    "data.address.head(10)"
   ]
  },
  {
   "cell_type": "markdown",
   "metadata": {},
   "source": [
    "В столбце присутствовали пропуски,и от них мы избавились.По предоставленной информации видно,что большинство учеников проживают в городе,а значит у этого контингента людей особых трудностей с дорогой не должно быть\n",
    "Такие же действия проведем со следующим столбцом"
   ]
  },
  {
   "cell_type": "markdown",
   "metadata": {},
   "source": [
    "# Famsize"
   ]
  },
  {
   "cell_type": "code",
   "execution_count": 381,
   "metadata": {},
   "outputs": [
    {
     "data": {
      "text/plain": [
       "0      NaN\n",
       "1      GT3\n",
       "2      LE3\n",
       "3      GT3\n",
       "4      GT3\n",
       "      ... \n",
       "386    GT3\n",
       "388    LE3\n",
       "389    GT3\n",
       "391    LE3\n",
       "393    LE3\n",
       "Name: famsize, Length: 366, dtype: object"
      ]
     },
     "execution_count": 381,
     "metadata": {},
     "output_type": "execute_result"
    }
   ],
   "source": [
    "data.famsize"
   ]
  },
  {
   "cell_type": "code",
   "execution_count": 382,
   "metadata": {},
   "outputs": [],
   "source": [
    "data.famsize=data.famsize.astype(str).apply(lambda x:None if x.strip()=='nan' else x)# Избавляемся от всевозможных пропусков "
   ]
  },
  {
   "cell_type": "code",
   "execution_count": 383,
   "metadata": {},
   "outputs": [
    {
     "data": {
      "text/plain": [
       "GT3    239\n",
       "LE3    101\n",
       "Name: famsize, dtype: int64"
      ]
     },
     "execution_count": 383,
     "metadata": {},
     "output_type": "execute_result"
    }
   ],
   "source": [
    "data.famsize.value_counts()"
   ]
  },
  {
   "cell_type": "code",
   "execution_count": 384,
   "metadata": {},
   "outputs": [
    {
     "data": {
      "text/plain": [
       "array([None, 'GT3', 'LE3'], dtype=object)"
      ]
     },
     "execution_count": 384,
     "metadata": {},
     "output_type": "execute_result"
    }
   ],
   "source": [
    "data.famsize.unique()"
   ]
  },
  {
   "cell_type": "markdown",
   "metadata": {},
   "source": [
    "# Fedu and Medu"
   ]
  },
  {
   "cell_type": "code",
   "execution_count": 385,
   "metadata": {},
   "outputs": [
    {
     "data": {
      "text/plain": [
       "array([ 4.,  1.,  2.,  3., 40., nan,  0.])"
      ]
     },
     "execution_count": 385,
     "metadata": {},
     "output_type": "execute_result"
    }
   ],
   "source": [
    "data.fedu.unique()"
   ]
  },
  {
   "cell_type": "code",
   "execution_count": 386,
   "metadata": {},
   "outputs": [
    {
     "data": {
      "text/plain": [
       "array([ 4.,  1.,  3.,  2., nan,  0.])"
      ]
     },
     "execution_count": 386,
     "metadata": {},
     "output_type": "execute_result"
    }
   ],
   "source": [
    "data.medu.unique()"
   ]
  },
  {
   "cell_type": "code",
   "execution_count": 387,
   "metadata": {},
   "outputs": [],
   "source": [
    "data.fedu=data.fedu.astype(str).apply(lambda x: None if x.strip()=='nan' else x)"
   ]
  },
  {
   "cell_type": "code",
   "execution_count": 388,
   "metadata": {},
   "outputs": [],
   "source": [
    "data.medu=data.medu.astype(str).apply(lambda x: None if x.strip()=='nan' else x)"
   ]
  },
  {
   "cell_type": "code",
   "execution_count": 389,
   "metadata": {},
   "outputs": [
    {
     "data": {
      "text/plain": [
       "count     363\n",
       "unique      5\n",
       "top       4.0\n",
       "freq      127\n",
       "Name: medu, dtype: object"
      ]
     },
     "execution_count": 389,
     "metadata": {},
     "output_type": "execute_result"
    }
   ],
   "source": [
    "data.medu.describe()"
   ]
  },
  {
   "cell_type": "code",
   "execution_count": 390,
   "metadata": {},
   "outputs": [
    {
     "data": {
      "text/plain": [
       "count     343\n",
       "unique      6\n",
       "top       2.0\n",
       "freq       99\n",
       "Name: fedu, dtype: object"
      ]
     },
     "execution_count": 390,
     "metadata": {},
     "output_type": "execute_result"
    }
   ],
   "source": [
    "data.fedu.describe()"
   ]
  },
  {
   "cell_type": "code",
   "execution_count": 391,
   "metadata": {},
   "outputs": [],
   "source": [
    "data.iloc[11,7] ='4.0'"
   ]
  },
  {
   "cell_type": "code",
   "execution_count": 392,
   "metadata": {},
   "outputs": [],
   "source": [
    "df_mother = data.loc[:,'medu'].copy()\n",
    "df_father = data.loc[:,'fedu'].copy()\n",
    "\n",
    "df_mother.dropna(inplace=True)\n",
    "df_father.dropna(inplace=True)"
   ]
  },
  {
   "cell_type": "code",
   "execution_count": 393,
   "metadata": {},
   "outputs": [
    {
     "data": {
      "text/plain": [
       "Text(4.75, 110, 'Отцы')"
      ]
     },
     "execution_count": 393,
     "metadata": {},
     "output_type": "execute_result"
    },
    {
     "data": {
      "image/png": "[encoded data removed]",
      "text/plain": [
       "<Figure size 864x576 with 1 Axes>"
      ]
     },
     "metadata": {
      "needs_background": "light"
     },
     "output_type": "display_data"
    }
   ],
   "source": [
    "# Создание фигуры \n",
    "fig ,ax = plt.subplots(figsize=(12,8))\n",
    "\n",
    "\n",
    "# Список для подписей отметок столбцов\n",
    "edu_names = ['высшее', '11 классов, среднее' , '5-9 классов', '4 класса', 'нет']\n",
    "\n",
    "\n",
    "# Создание графика\n",
    "bar0 = ax.bar(np.arange(1,6)-0.17,\n",
    "                     df_mother.value_counts().reset_index().sort_values(by='index', ascending=False)['medu']\n",
    "              , width=0.35, color='red')\n",
    "bar1 = ax.bar(np.arange(1,6)+0.17,\n",
    "              df_father.value_counts().reset_index().sort_values(by='index', ascending=False)['fedu'].values,\n",
    "              width=0.35, color='skyblue')\n",
    "\n",
    "\n",
    "# Настройка параметров\n",
    "plt.xticks(np.arange(1,6), edu_names, size=11)\n",
    "ax.set_title('Уровень образования родителей', fontsize=14)\n",
    "ax.set_ylabel('Количество матерей и отцов', fontsize=14)\n",
    "ax.text(4,110,'Матери /', color='red', size=21)\n",
    "ax.text(4.75,110,'Отцы', color='skyblue', size=21)\n",
    "\n",
    "\n"
   ]
  },
  {
   "cell_type": "markdown",
   "metadata": {},
   "source": [
    "В данных имелось одно искажение,но данный вопрос был решен.Следовало изменить тип хранимых данных,что было и сделано.\n",
    "\n",
    "Значения приведенных параметров отцов и матерей распределены нормально,без каких-либо недостатков.Можно заметить,что в высшем образовании преобладают матери ,нежели отцы.У отцов основная масса окончила лишь 5-9 класс"
   ]
  },
  {
   "cell_type": "markdown",
   "metadata": {},
   "source": [
    "# Mjob и Fjob"
   ]
  },
  {
   "cell_type": "code",
   "execution_count": 394,
   "metadata": {},
   "outputs": [
    {
     "data": {
      "text/plain": [
       "array(['at_home', 'health', 'other', 'services', 'teacher', nan],\n",
       "      dtype=object)"
      ]
     },
     "execution_count": 394,
     "metadata": {},
     "output_type": "execute_result"
    }
   ],
   "source": [
    "data.mjob.unique()"
   ]
  },
  {
   "cell_type": "code",
   "execution_count": 395,
   "metadata": {},
   "outputs": [
    {
     "data": {
      "text/plain": [
       "array(['teacher', 'other', nan, 'health', 'services', 'at_home'],\n",
       "      dtype=object)"
      ]
     },
     "execution_count": 395,
     "metadata": {},
     "output_type": "execute_result"
    }
   ],
   "source": [
    "data.fjob.unique()"
   ]
  },
  {
   "cell_type": "markdown",
   "metadata": {},
   "source": [
    "Можно заметить пропуски в том и другом столбце,которые следует устранить"
   ]
  },
  {
   "cell_type": "code",
   "execution_count": 396,
   "metadata": {},
   "outputs": [],
   "source": [
    "data.fjob=data.fjob.astype(str).apply(lambda x: None if x.strip()=='nan' else x)"
   ]
  },
  {
   "cell_type": "code",
   "execution_count": 397,
   "metadata": {},
   "outputs": [],
   "source": [
    "data.mjob=data.mjob.astype(str).apply(lambda x: None if x.strip()=='nan' else x)"
   ]
  },
  {
   "cell_type": "code",
   "execution_count": 398,
   "metadata": {},
   "outputs": [
    {
     "data": {
      "text/plain": [
       "Text(4.75, 110, 'Отцы')"
      ]
     },
     "execution_count": 398,
     "metadata": {},
     "output_type": "execute_result"
    },
    {
     "data": {
      "image/png": "[encoded data removed]",
      "text/plain": [
       "<Figure size 864x576 with 1 Axes>"
      ]
     },
     "metadata": {
      "needs_background": "light"
     },
     "output_type": "display_data"
    }
   ],
   "source": [
    "# Создание фигуры \n",
    "fig ,ax = plt.subplots(figsize=(12,8))\n",
    "\n",
    "\n",
    "# Список для подписей отметок столбцов\n",
    "edu_names = ['teacher', 'other' , 'health', 'services', 'at_home']\n",
    "\n",
    "\n",
    "# Создание графика\n",
    "bar0 = ax.bar(np.arange(1,6)-0.17,\n",
    "                     data.mjob.value_counts().reset_index().sort_values(by='index', ascending=False)['mjob']\n",
    "              , width=0.35, color='red')\n",
    "bar1 = ax.bar(np.arange(1,6)+0.17,\n",
    "              data.fjob.value_counts().reset_index().sort_values(by='index', ascending=False)['fjob'].values,\n",
    "              width=0.35, color='skyblue')\n",
    "\n",
    "\n",
    "# Настройка параметров\n",
    "plt.xticks(np.arange(1,6), edu_names, size=11)\n",
    "ax.set_title('Профессии родителей', fontsize=14)\n",
    "ax.set_ylabel('Количество матерей и отцов', fontsize=14)\n",
    "ax.text(4,110,'Матери /', color='red', size=21)\n",
    "ax.text(4.75,110,'Отцы', color='skyblue', size=21)"
   ]
  },
  {
   "cell_type": "markdown",
   "metadata": {},
   "source": [
    "Пропуски в данных столбцах имелись и в дальнейшем были устранены.Не смотря на преобладание матерей с высшим образованием,большинство отцов заняты в сфере медицины.Данные показатели распределены нормально"
   ]
  },
  {
   "cell_type": "markdown",
   "metadata": {},
   "source": [
    "# reason"
   ]
  },
  {
   "cell_type": "markdown",
   "metadata": {},
   "source": [
    "Рассмотрим причину выбора школы"
   ]
  },
  {
   "cell_type": "code",
   "execution_count": 399,
   "metadata": {},
   "outputs": [
    {
     "data": {
      "text/plain": [
       "array(['course', 'other', 'home', 'reputation', nan], dtype=object)"
      ]
     },
     "execution_count": 399,
     "metadata": {},
     "output_type": "execute_result"
    }
   ],
   "source": [
    "data.reason.unique()"
   ]
  },
  {
   "cell_type": "code",
   "execution_count": 400,
   "metadata": {},
   "outputs": [
    {
     "data": {
      "text/plain": [
       "count        350\n",
       "unique         4\n",
       "top       course\n",
       "freq         130\n",
       "Name: reason, dtype: object"
      ]
     },
     "execution_count": 400,
     "metadata": {},
     "output_type": "execute_result"
    }
   ],
   "source": [
    "data.reason.describe()"
   ]
  },
  {
   "cell_type": "code",
   "execution_count": 401,
   "metadata": {},
   "outputs": [],
   "source": [
    "data.reason=data.reason.astype(str).apply(lambda x: None if x.strip()=='nan' else x)"
   ]
  },
  {
   "cell_type": "code",
   "execution_count": 402,
   "metadata": {},
   "outputs": [
    {
     "data": {
      "text/plain": [
       "<matplotlib.axes._subplots.AxesSubplot at 0x2069ea66828>"
      ]
     },
     "execution_count": 402,
     "metadata": {},
     "output_type": "execute_result"
    },
    {
     "data": {
      "image/png": "[encoded data removed]",
      "text/plain": [
       "<Figure size 432x288 with 1 Axes>"
      ]
     },
     "metadata": {
      "needs_background": "light"
     },
     "output_type": "display_data"
    }
   ],
   "source": [
    "data.reason.hist()"
   ]
  },
  {
   "cell_type": "markdown",
   "metadata": {},
   "source": [
    "Большинство выбрало школу из-за образовательной программы и только потом из-за близости к дому и репутации школы.По различным другим причнам выбирали меньшенство\n"
   ]
  },
  {
   "cell_type": "markdown",
   "metadata": {},
   "source": [
    "# guardian"
   ]
  },
  {
   "cell_type": "code",
   "execution_count": 403,
   "metadata": {},
   "outputs": [
    {
     "data": {
      "text/plain": [
       "0      mother\n",
       "1      father\n",
       "2      mother\n",
       "3      mother\n",
       "4      father\n",
       "        ...  \n",
       "386    mother\n",
       "388    mother\n",
       "389    mother\n",
       "391    mother\n",
       "393    mother\n",
       "Name: guardian, Length: 366, dtype: object"
      ]
     },
     "execution_count": 403,
     "metadata": {},
     "output_type": "execute_result"
    }
   ],
   "source": [
    "data.guardian"
   ]
  },
  {
   "cell_type": "code",
   "execution_count": 404,
   "metadata": {},
   "outputs": [
    {
     "data": {
      "text/plain": [
       "array(['mother', 'father', 'other', nan], dtype=object)"
      ]
     },
     "execution_count": 404,
     "metadata": {},
     "output_type": "execute_result"
    }
   ],
   "source": [
    "data.guardian.unique()"
   ]
  },
  {
   "cell_type": "code",
   "execution_count": 405,
   "metadata": {},
   "outputs": [],
   "source": [
    "data.guardian=data.guardian.astype(str).apply(lambda x: None if x.strip()=='nan' else x)"
   ]
  },
  {
   "cell_type": "code",
   "execution_count": 406,
   "metadata": {},
   "outputs": [
    {
     "data": {
      "text/plain": [
       "count        338\n",
       "unique         3\n",
       "top       mother\n",
       "freq         245\n",
       "Name: guardian, dtype: object"
      ]
     },
     "execution_count": 406,
     "metadata": {},
     "output_type": "execute_result"
    }
   ],
   "source": [
    "data.guardian.describe()"
   ]
  },
  {
   "cell_type": "code",
   "execution_count": 407,
   "metadata": {},
   "outputs": [
    {
     "data": {
      "text/plain": [
       "<matplotlib.axes._subplots.AxesSubplot at 0x206a141feb8>"
      ]
     },
     "execution_count": 407,
     "metadata": {},
     "output_type": "execute_result"
    },
    {
     "data": {
      "image/png": "[encoded data removed]",
      "text/plain": [
       "<Figure size 432x288 with 1 Axes>"
      ]
     },
     "metadata": {
      "needs_background": "light"
     },
     "output_type": "display_data"
    }
   ],
   "source": [
    "data.guardian.hist()"
   ]
  },
  {
   "cell_type": "markdown",
   "metadata": {},
   "source": [
    "В большенстве опекунство идет за матерью, нежели за отцом. Это может быть в полне логично, поскольку за отцом стоит большая ответственность за благополучие семьи. Из этого можно предположить, о преобладании семей патриархального типа, где во главе семьи стоит мужчина"
   ]
  },
  {
   "cell_type": "markdown",
   "metadata": {},
   "source": [
    "# Бинарные показатели,подразумевающие ответ: yes or no"
   ]
  },
  {
   "cell_type": "code",
   "execution_count": 408,
   "metadata": {},
   "outputs": [],
   "source": [
    "names=['schoolsup','famsup','paid','activities','nursery','higher','internet','romantic']\n",
    "df=data[names]\n",
    "for i in names:\n",
    "    data[i]=data[i].astype(str).apply(lambda x: None if x.strip()=='nan' else x)\n"
   ]
  },
  {
   "cell_type": "markdown",
   "metadata": {},
   "source": [
    "# Famsize"
   ]
  },
  {
   "cell_type": "code",
   "execution_count": 409,
   "metadata": {},
   "outputs": [
    {
     "data": {
      "text/plain": [
       "array([None, 'GT3', 'LE3'], dtype=object)"
      ]
     },
     "execution_count": 409,
     "metadata": {},
     "output_type": "execute_result"
    }
   ],
   "source": [
    "data.famsize.unique()"
   ]
  },
  {
   "cell_type": "code",
   "execution_count": 410,
   "metadata": {},
   "outputs": [
    {
     "data": {
      "text/plain": [
       "GT3    239\n",
       "LE3    101\n",
       "Name: famsize, dtype: int64"
      ]
     },
     "execution_count": 410,
     "metadata": {},
     "output_type": "execute_result"
    }
   ],
   "source": [
    "data.famsize.value_counts()"
   ]
  },
  {
   "cell_type": "code",
   "execution_count": 411,
   "metadata": {},
   "outputs": [
    {
     "data": {
      "text/plain": [
       "<matplotlib.axes._subplots.AxesSubplot at 0x2069f72ffd0>"
      ]
     },
     "execution_count": 411,
     "metadata": {},
     "output_type": "execute_result"
    },
    {
     "data": {
      "image/png": "[encoded data removed]",
      "text/plain": [
       "<Figure size 432x288 with 1 Axes>"
      ]
     },
     "metadata": {
      "needs_background": "light"
     },
     "output_type": "display_data"
    }
   ],
   "source": [
    "data.famsize.hist()"
   ]
  },
  {
   "cell_type": "markdown",
   "metadata": {},
   "source": [
    "# ВЫВОД\n",
    "\n",
    "Данные не потребовали серьезной обработки\n",
    "Присутствовали пропсуки,но их количество было незначительным.\n",
    "\n",
    "Из выше выведенного можно сложить портрет ученика, его окружения снмьи :\n",
    "\n",
    "- В приведенном датасете рассматриваются страшие классы двух школ,де преобладают ученики GP\n",
    "- В семеьях с высшим образованием преобладают матери\n",
    "- Большая часть отцов заняты в сфере сздравохрнения\n",
    "- Выбор школы был онован в большей степени на образовательной программе\n",
    "- В опекунстве преобладают матери\n",
    "- Большая семей благополучно живут вместе\n",
    "- Большинство учеников живут в городе 78%\n",
    "- У большинства родители живут совместно 90%\n",
    "- У большинства учеников имеются братья или сестры 70%\n",
    "- Практически всем ученикам не предоставляется дополнительная -образовательная поддержка  86%\n",
    "- Большинство из них посещало детский сад 81%\n",
    "- Практически все ученики планируют получать высшее образование 96%\n",
    "- Почти у всех имеется доступ к интернету 86%\n",
    "- Многие не состоят в романтических отношениях 67%\n"
   ]
  },
  {
   "cell_type": "markdown",
   "metadata": {},
   "source": [
    "# Раздел 2"
   ]
  },
  {
   "cell_type": "markdown",
   "metadata": {},
   "source": [
    "# absences"
   ]
  },
  {
   "cell_type": "code",
   "execution_count": 412,
   "metadata": {},
   "outputs": [
    {
     "data": {
      "text/plain": [
       "pandas.core.series.Series"
      ]
     },
     "execution_count": 412,
     "metadata": {},
     "output_type": "execute_result"
    }
   ],
   "source": [
    "type(data.absences)"
   ]
  },
  {
   "cell_type": "code",
   "execution_count": 413,
   "metadata": {},
   "outputs": [],
   "source": [
    "data.absences=data.absences.astype(str).apply(lambda x: None if x.strip()=='nan' else x)"
   ]
  },
  {
   "cell_type": "code",
   "execution_count": 414,
   "metadata": {},
   "outputs": [
    {
     "data": {
      "text/plain": [
       "count     355\n",
       "unique     33\n",
       "top       0.0\n",
       "freq      104\n",
       "Name: absences, dtype: object"
      ]
     },
     "execution_count": 414,
     "metadata": {},
     "output_type": "execute_result"
    }
   ],
   "source": [
    "data.absences.describe()"
   ]
  },
  {
   "cell_type": "code",
   "execution_count": 415,
   "metadata": {},
   "outputs": [
    {
     "data": {
      "text/plain": [
       "<matplotlib.axes._subplots.AxesSubplot at 0x206a14d9710>"
      ]
     },
     "execution_count": 415,
     "metadata": {},
     "output_type": "execute_result"
    },
    {
     "data": {
      "image/png": "[encoded data removed]",
      "text/plain": [
       "<Figure size 1152x720 with 1 Axes>"
      ]
     },
     "metadata": {
      "needs_background": "light"
     },
     "output_type": "display_data"
    }
   ],
   "source": [
    "data.absences.sort_values().hist(bins=100,grid=False,figsize=(16,10))"
   ]
  },
  {
   "cell_type": "markdown",
   "metadata": {},
   "source": [
    "График получился в разброс, но можно заметить,что в основном пропуски от 0 до 20."
   ]
  },
  {
   "cell_type": "markdown",
   "metadata": {},
   "source": [
    "# traveltime"
   ]
  },
  {
   "cell_type": "code",
   "execution_count": 416,
   "metadata": {},
   "outputs": [
    {
     "data": {
      "text/plain": [
       "array([ 2.,  1.,  3., nan,  4.])"
      ]
     },
     "execution_count": 416,
     "metadata": {},
     "output_type": "execute_result"
    }
   ],
   "source": [
    "data.traveltime.unique()"
   ]
  },
  {
   "cell_type": "code",
   "execution_count": 417,
   "metadata": {},
   "outputs": [],
   "source": [
    "data.traveltime=data.traveltime.astype(str).apply(lambda x: None if x.strip()=='nan' else x)"
   ]
  },
  {
   "cell_type": "code",
   "execution_count": 418,
   "metadata": {},
   "outputs": [
    {
     "data": {
      "text/plain": [
       "<matplotlib.axes._subplots.AxesSubplot at 0x206a13b89e8>"
      ]
     },
     "execution_count": 418,
     "metadata": {},
     "output_type": "execute_result"
    },
    {
     "data": {
      "image/png": "[encoded data removed]",
      "text/plain": [
       "<Figure size 432x288 with 1 Axes>"
      ]
     },
     "metadata": {
      "needs_background": "light"
     },
     "output_type": "display_data"
    }
   ],
   "source": [
    "data.traveltime.hist()"
   ]
  },
  {
   "cell_type": "markdown",
   "metadata": {},
   "source": [
    "У большей части учеников  путь до школы заниматет меньше 15 мин"
   ]
  },
  {
   "cell_type": "markdown",
   "metadata": {},
   "source": [
    "# studytime"
   ]
  },
  {
   "cell_type": "code",
   "execution_count": 419,
   "metadata": {},
   "outputs": [
    {
     "data": {
      "text/plain": [
       "array([ 2.,  3.,  1., nan,  4.])"
      ]
     },
     "execution_count": 419,
     "metadata": {},
     "output_type": "execute_result"
    }
   ],
   "source": [
    "data.studytime.unique()"
   ]
  },
  {
   "cell_type": "code",
   "execution_count": 420,
   "metadata": {},
   "outputs": [],
   "source": [
    "data.studytime=data.studytime.astype(str).apply(lambda x: None if x.strip()=='nan' else x)"
   ]
  },
  {
   "cell_type": "code",
   "execution_count": 421,
   "metadata": {},
   "outputs": [
    {
     "data": {
      "text/plain": [
       "<matplotlib.axes._subplots.AxesSubplot at 0x206a13ab9e8>"
      ]
     },
     "execution_count": 421,
     "metadata": {},
     "output_type": "execute_result"
    },
    {
     "data": {
      "image/png": "[encoded data removed]",
      "text/plain": [
       "<Figure size 432x288 with 1 Axes>"
      ]
     },
     "metadata": {
      "needs_background": "light"
     },
     "output_type": "display_data"
    }
   ],
   "source": [
    "data.studytime.hist()"
   ]
  },
  {
   "cell_type": "markdown",
   "metadata": {},
   "source": [
    "У большинства времени после школы достаточно много, 2-5 часов"
   ]
  },
  {
   "cell_type": "markdown",
   "metadata": {},
   "source": [
    "# famrel, freetime, go_out, health"
   ]
  },
  {
   "cell_type": "code",
   "execution_count": 422,
   "metadata": {},
   "outputs": [],
   "source": [
    "data.loc[25,'famrel'] = 1 #Исправление отрицательного значения в столбце"
   ]
  },
  {
   "cell_type": "code",
   "execution_count": 423,
   "metadata": {},
   "outputs": [
    {
     "data": {
      "text/plain": [
       "['famrel', 'freetime', 'goout', 'health']"
      ]
     },
     "execution_count": 423,
     "metadata": {},
     "output_type": "execute_result"
    }
   ],
   "source": [
    "group = data.iloc[:,[23,24,25,26]]\n",
    "list(group.columns)"
   ]
  },
  {
   "cell_type": "code",
   "execution_count": 424,
   "metadata": {},
   "outputs": [
    {
     "data": {
      "image/png": "[encoded data removed]",
      "text/plain": [
       "<Figure size 1152x504 with 1 Axes>"
      ]
     },
     "metadata": {
      "needs_background": "light"
     },
     "output_type": "display_data"
    }
   ],
   "source": [
    "get_grouped_values(data, list(group.columns), label_xticks=['семейные отношения','свободное время после школы', \n",
    "                                                          'проведение времени с друзьями', 'текущее состояние здоровья'],\n",
    "                   rotation=45, value_y=True,\n",
    "                   color_list=['lightskyblue', 'cornflowerblue', 'royalblue', 'blue', 'navy'],\n",
    "                  title='Группы', tick_size_x=15, tick_size_y=12,\n",
    "                  y_limit=True, ymax=180)"
   ]
  },
  {
   "cell_type": "markdown",
   "metadata": {},
   "source": [
    "Видно, что у большинства учеников большая половина показателей по каждому из предоставленных параметров выше среднего. У этого большинства: хорошие отношения с родителями, много свободного времени после школы и на общение с друзьями, а также хорошие показатели состояния здоровья. Видно, что те ученики, у которых состояние здоровье отличное - 5 баллов, сильно вырываются из общей массы"
   ]
  },
  {
   "cell_type": "markdown",
   "metadata": {},
   "source": [
    "# score"
   ]
  },
  {
   "cell_type": "code",
   "execution_count": 425,
   "metadata": {},
   "outputs": [
    {
     "name": "stdout",
     "output_type": "stream",
     "text": [
      "Количество пустых значений: 3\n",
      "Количество 0 оценок: 32\n"
     ]
    },
    {
     "data": {
      "image/png": "[encoded data removed]",
      "text/plain": [
       "<Figure size 432x288 with 1 Axes>"
      ]
     },
     "metadata": {
      "needs_background": "light"
     },
     "output_type": "display_data"
    }
   ],
   "source": [
    "data['score'].hist(color='darkblue')\n",
    "data['score'].describe()\n",
    "\n",
    "print('Количество пустых значений: {}'.format(data['score'].isna().sum()))\n",
    "print('Количество 0 оценок: {}'.format(len(df[data['score'] == 0 ])))"
   ]
  },
  {
   "cell_type": "code",
   "execution_count": 426,
   "metadata": {},
   "outputs": [
    {
     "data": {
      "image/png": "[encoded data removed]",
      "text/plain": [
       "<Figure size 1152x504 with 1 Axes>"
      ]
     },
     "metadata": {
      "needs_background": "light"
     },
     "output_type": "display_data"
    }
   ],
   "source": [
    "get_grouped_values(data, ['score'], label_xticks='', color_list=['navy']*18,\n",
    "                   title='Баллы по госэкзамену по математике',\n",
    "                   xlabel='Количество учеников',\n",
    "                ylabel='Оценки',\n",
    "                  value_y=True, y_limit=True, ymax=60)"
   ]
  },
  {
   "cell_type": "code",
   "execution_count": 427,
   "metadata": {},
   "outputs": [
    {
     "data": {
      "text/plain": [
       "M    23\n",
       "F    16\n",
       "Name: sex, dtype: int64"
      ]
     },
     "metadata": {},
     "output_type": "display_data"
    },
    {
     "data": {
      "text/html": [
       "<div>\n",
       "<style scoped>\n",
       "    .dataframe tbody tr th:only-of-type {\n",
       "        vertical-align: middle;\n",
       "    }\n",
       "\n",
       "    .dataframe tbody tr th {\n",
       "        vertical-align: top;\n",
       "    }\n",
       "\n",
       "    .dataframe thead th {\n",
       "        text-align: right;\n",
       "    }\n",
       "</style>\n",
       "<table border=\"1\" class=\"dataframe\">\n",
       "  <thead>\n",
       "    <tr style=\"text-align: right;\">\n",
       "      <th></th>\n",
       "      <th>sex</th>\n",
       "      <th>score</th>\n",
       "    </tr>\n",
       "  </thead>\n",
       "  <tbody>\n",
       "    <tr>\n",
       "      <td>47</td>\n",
       "      <td>M</td>\n",
       "      <td>100.0</td>\n",
       "    </tr>\n",
       "  </tbody>\n",
       "</table>\n",
       "</div>"
      ],
      "text/plain": [
       "   sex  score\n",
       "47   M  100.0"
      ]
     },
     "execution_count": 427,
     "metadata": {},
     "output_type": "execute_result"
    }
   ],
   "source": [
    "\n",
    "display(data.loc[data['score']>=80]['sex'].value_counts())\n",
    "sex_and_score = data.loc[:,['sex','score']]\n",
    "sex_and_score.loc[data['score']==100]"
   ]
  },
  {
   "cell_type": "markdown",
   "metadata": {},
   "source": [
    "# Вывод\n",
    "- Ни один признак не имел критического количества пустых значений. \n",
    "- Большая часть учеников добирается до школы не более, чем за 30 минут.\n",
    "- Менее, чем за 15 минут составляет путь до школы у большинства учеников. \n",
    "- Около половины учеников тратит на учебу вне школы от 2-5 часов. 1/4 проводит за занятиями менее 2 часов, другая более 5.\n",
    "- Более, чем у половины из них хорошие отношения с родителями, много свободного времени после школы, которое они видимо тратят на общение с друзьями, а также достаточно хорошие показатели состояния здоровья.\n",
    "- У абсолютного большинства  отсутствуют внеучебные неудачи. \n",
    "- Учащихся практически не пропускают занятия, у трети школьников совсем отсутствуют пропуски.\n",
    "- Отличников среди мальчиков немного больше\n",
    "- Рассмотрены все количественные признаки датафрейма, ни один из них не потребовал серьезных изменений.\n"
   ]
  },
  {
   "cell_type": "markdown",
   "metadata": {},
   "source": [
    "# 2.Корреляционный анализ\n",
    "-----"
   ]
  },
  {
   "cell_type": "markdown",
   "metadata": {},
   "source": [
    "Как количественные признаки коррелируют со шкалой оценок?"
   ]
  },
  {
   "cell_type": "code",
   "execution_count": 428,
   "metadata": {},
   "outputs": [],
   "source": [
    "data[['medu','fedu','traveltime','studytime','absences']]=data[['medu','fedu','traveltime','studytime','absences']].astype(float)"
   ]
  },
  {
   "cell_type": "code",
   "execution_count": 429,
   "metadata": {},
   "outputs": [],
   "source": [
    "# Датафрейм количественных признаков\n",
    "df_num =pd.DataFrame(data[['age','medu','fedu','traveltime','studytime','failures','famrel','freetime',\n",
    "   'goout','health','absences','score']])\n",
    "# Датафрейм номинативных признаков\n",
    "df_nom = pd.DataFrame(data[['school','sex','address','famsize','pstatus','mjob','fjob','reason',\n",
    "                      'guardian','schoolsup','famsup','paid',\n",
    "                      'activities','nursery','higher','internet','romantic','score']])\n",
    "\n"
   ]
  },
  {
   "cell_type": "code",
   "execution_count": 430,
   "metadata": {},
   "outputs": [],
   "source": [
    "dff=df_num.corr()"
   ]
  },
  {
   "cell_type": "code",
   "execution_count": 431,
   "metadata": {},
   "outputs": [
    {
     "data": {
      "text/html": [
       "<div>\n",
       "<style scoped>\n",
       "    .dataframe tbody tr th:only-of-type {\n",
       "        vertical-align: middle;\n",
       "    }\n",
       "\n",
       "    .dataframe tbody tr th {\n",
       "        vertical-align: top;\n",
       "    }\n",
       "\n",
       "    .dataframe thead th {\n",
       "        text-align: right;\n",
       "    }\n",
       "</style>\n",
       "<table border=\"1\" class=\"dataframe\">\n",
       "  <thead>\n",
       "    <tr style=\"text-align: right;\">\n",
       "      <th></th>\n",
       "      <th>age</th>\n",
       "      <th>medu</th>\n",
       "      <th>fedu</th>\n",
       "      <th>traveltime</th>\n",
       "      <th>studytime</th>\n",
       "      <th>failures</th>\n",
       "      <th>famrel</th>\n",
       "      <th>freetime</th>\n",
       "      <th>goout</th>\n",
       "      <th>health</th>\n",
       "      <th>absences</th>\n",
       "    </tr>\n",
       "  </thead>\n",
       "  <tbody>\n",
       "    <tr>\n",
       "      <td>score</td>\n",
       "      <td>-0.131906</td>\n",
       "      <td>0.206026</td>\n",
       "      <td>0.141706</td>\n",
       "      <td>-0.072038</td>\n",
       "      <td>0.110203</td>\n",
       "      <td>-0.370939</td>\n",
       "      <td>0.047908</td>\n",
       "      <td>0.019433</td>\n",
       "      <td>-0.12848</td>\n",
       "      <td>-0.074151</td>\n",
       "      <td>0.076297</td>\n",
       "    </tr>\n",
       "  </tbody>\n",
       "</table>\n",
       "</div>"
      ],
      "text/plain": [
       "            age      medu      fedu  traveltime  studytime  failures  \\\n",
       "score -0.131906  0.206026  0.141706   -0.072038   0.110203 -0.370939   \n",
       "\n",
       "         famrel  freetime    goout    health  absences  \n",
       "score  0.047908  0.019433 -0.12848 -0.074151  0.076297  "
      ]
     },
     "execution_count": 431,
     "metadata": {},
     "output_type": "execute_result"
    }
   ],
   "source": [
    "dff.loc[['score'],:'absences']"
   ]
  },
  {
   "cell_type": "markdown",
   "metadata": {},
   "source": [
    "Те параметры, которые меньше 10%, можно не учитывать, так как статистическая взаимосвязь слишком мала \n",
    "\n",
    "- Коррелирующие с оценками признаки:\n",
    "- Возраст ученика (age)\n",
    "- Образование матери (medu)\n",
    "- Количество неуспехов вне школьной деятельности (failures)\n",
    "- Количество внеучебных занятий (studytime)\n",
    "- Количество времени, затрачиваемого на общение с друзьями (goout)"
   ]
  },
  {
   "cell_type": "markdown",
   "metadata": {},
   "source": [
    "# 3.Анализ номенативных переменных\n",
    "------"
   ]
  },
  {
   "cell_type": "markdown",
   "metadata": {},
   "source": [
    "\n",
    "Какие номинативные параметры влияют на оценки учеников?"
   ]
  },
  {
   "cell_type": "code",
   "execution_count": 432,
   "metadata": {},
   "outputs": [],
   "source": [
    "columns_nom = list(df_nom.columns)[:-1]"
   ]
  },
  {
   "cell_type": "code",
   "execution_count": 433,
   "metadata": {},
   "outputs": [],
   "source": [
    "def get_boxplot(column):\n",
    "\n",
    "    fig,ax = plt.subplots(figsize=(8,8))\n",
    "    sns.boxplot(x=df_nom[column],y=df_nom['score'],data=df_nom, ax=ax,width=0.2)\n",
    "    plt.xlabel(i,fontsize=20)\n",
    "    plt.ylabel('score',fontsize=20)\n",
    "    plt.xticks(rotation=45,fontsize=15)\n",
    "    plt.show()"
   ]
  },
  {
   "cell_type": "code",
   "execution_count": 434,
   "metadata": {},
   "outputs": [
    {
     "data": {
      "image/png": "[encoded data removed]",
      "text/plain": [
       "<Figure size 576x576 with 1 Axes>"
      ]
     },
     "metadata": {
      "needs_background": "light"
     },
     "output_type": "display_data"
    },
    {
     "data": {
      "image/png": "[encoded data removed]",
      "text/plain": [
       "<Figure size 576x576 with 1 Axes>"
      ]
     },
     "metadata": {
      "needs_background": "light"
     },
     "output_type": "display_data"
    },
    {
     "data": {
      "image/png": "[encoded data removed]",
      "text/plain": [
       "<Figure size 576x576 with 1 Axes>"
      ]
     },
     "metadata": {
      "needs_background": "light"
     },
     "output_type": "display_data"
    },
    {
     "data": {
      "image/png": "[encoded data removed]",
      "text/plain": [
       "<Figure size 576x576 with 1 Axes>"
      ]
     },
     "metadata": {
      "needs_background": "light"
     },
     "output_type": "display_data"
    },
    {
     "data": {
      "image/png": "[encoded data removed]",
      "text/plain": [
       "<Figure size 576x576 with 1 Axes>"
      ]
     },
     "metadata": {
      "needs_background": "light"
     },
     "output_type": "display_data"
    },
    {
     "data": {
      "image/png": "[encoded data removed]",
      "text/plain": [
       "<Figure size 576x576 with 1 Axes>"
      ]
     },
     "metadata": {
      "needs_background": "light"
     },
     "output_type": "display_data"
    },
    {
     "data": {
      "image/png": "[encoded data removed]",
      "text/plain": [
       "<Figure size 576x576 with 1 Axes>"
      ]
     },
     "metadata": {
      "needs_background": "light"
     },
     "output_type": "display_data"
    },
    {
     "data": {
      "image/png": "[encoded data removed]",
      "text/plain": [
       "<Figure size 576x576 with 1 Axes>"
      ]
     },
     "metadata": {
      "needs_background": "light"
     },
     "output_type": "display_data"
    },
    {
     "data": {
      "image/png": "[encoded data removed]",
      "text/plain": [
       "<Figure size 576x576 with 1 Axes>"
      ]
     },
     "metadata": {
      "needs_background": "light"
     },
     "output_type": "display_data"
    },
    {
     "data": {
      "image/png": "[encoded data removed]",
      "text/plain": [
       "<Figure size 576x576 with 1 Axes>"
      ]
     },
     "metadata": {
      "needs_background": "light"
     },
     "output_type": "display_data"
    },
    {
     "data": {
      "image/png": "[encoded data removed]",
      "text/plain": [
       "<Figure size 576x576 with 1 Axes>"
      ]
     },
     "metadata": {
      "needs_background": "light"
     },
     "output_type": "display_data"
    },
    {
     "data": {
      "image/png": "[encoded data removed]",
      "text/plain": [
       "<Figure size 576x576 with 1 Axes>"
      ]
     },
     "metadata": {
      "needs_background": "light"
     },
     "output_type": "display_data"
    },
    {
     "data": {
      "image/png": "[encoded data removed]",
      "text/plain": [
       "<Figure size 576x576 with 1 Axes>"
      ]
     },
     "metadata": {
      "needs_background": "light"
     },
     "output_type": "display_data"
    },
    {
     "data": {
      "image/png": "[encoded data removed]",
      "text/plain": [
       "<Figure size 576x576 with 1 Axes>"
      ]
     },
     "metadata": {
      "needs_background": "light"
     },
     "output_type": "display_data"
    },
    {
     "data": {
      "image/png": "[encoded data removed]",
      "text/plain": [
       "<Figure size 576x576 with 1 Axes>"
      ]
     },
     "metadata": {
      "needs_background": "light"
     },
     "output_type": "display_data"
    },
    {
     "data": {
      "image/png": "[encoded data removed]",
      "text/plain": [
       "<Figure size 576x576 with 1 Axes>"
      ]
     },
     "metadata": {
      "needs_background": "light"
     },
     "output_type": "display_data"
    },
    {
     "data": {
      "image/png": "[encoded data removed]",
      "text/plain": [
       "<Figure size 576x576 with 1 Axes>"
      ]
     },
     "metadata": {
      "needs_background": "light"
     },
     "output_type": "display_data"
    }
   ],
   "source": [
    "\n",
    "for i in columns_nom:\n",
    "    get_boxplot(i)"
   ]
  },
  {
   "cell_type": "code",
   "execution_count": 437,
   "metadata": {},
   "outputs": [],
   "source": [
    "\n",
    "def get_stat_dif(column):\n",
    "    \n",
    "    cols = data.loc[:, column].value_counts().index[:5]\n",
    "    combinations_all = list(combinations(cols, 2))\n",
    "    \n",
    "    for comb in combinations_all:\n",
    "        if ttest_ind(data.loc[data.loc[:, column] == comb[0], 'score'], \n",
    "                     data.loc[data.loc[:, column] == comb[1], 'score'],\n",
    "                    nan_policy='omit').pvalue\\\n",
    "            <= 0.05/len(combinations_all): # Поправка Бонферони\n",
    "            print('Найдены статистически значимые различия для колонки', column)\n",
    "            break"
   ]
  },
  {
   "cell_type": "code",
   "execution_count": 438,
   "metadata": {},
   "outputs": [
    {
     "name": "stdout",
     "output_type": "stream",
     "text": [
      "Найдены статистически значимые различия для колонки sex\n",
      "Найдены статистически значимые различия для колонки address\n",
      "Найдены статистически значимые различия для колонки mjob\n",
      "Найдены статистически значимые различия для колонки higher\n",
      "Найдены статистически значимые различия для колонки romantic\n",
      "Найдены статистически значимые различия для колонки score\n"
     ]
    }
   ],
   "source": [
    "for name in ['school','sex','address','famsize','pstatus','mjob','fjob','reason',\n",
    "                      'guardian','schoolsup','famsup','paid',\n",
    "                      'activities','nursery','higher','internet','romantic','score']:\n",
    "    get_stat_dif(name)"
   ]
  },
  {
   "cell_type": "markdown",
   "metadata": {},
   "source": [
    "Для построения модели будет целеособразным оставить следующие признаки:\n",
    "- пол (sex)\n",
    "- адрес (address)\n",
    "- образование матери (mjob)\n",
    "- образование отцов (fjob)\n",
    "- желание продолжать учебу и поступать в институт (higher)\n",
    "- состояние в романтических отношениях (romantic)\n",
    "- дополнительные платные занятия по математике (paid)"
   ]
  },
  {
   "cell_type": "markdown",
   "metadata": {},
   "source": [
    "# 4.Вывод\n",
    "\n",
    "Большинство наблюдений взято из одной школы . Полагаю, что различия между учащимися в таком случае могли бы быть куда более разрозненными. Если бы в данных были собраны 4000 учеников из разных школ, то вероятно, различия среди учеников, накладываемые самими школами, стирались бы при такой большой выборке.\n",
    "\n",
    "Возраст и пол распределены почти равнозначно среди учащихся. Достаточно одинаковое распределение имеет уровень образование среди родителей. Ученики в общей своей массе имеют достаточно неплохие условия и показатели учебы, большинство имеет оценки по математике выше среднего. Ученики тратят достаточно времени на дополнительное образование, на уроки вне школы , имеют хорошее отношение с родителями, доступ к интернету, дальнейшее желание учиться и поступать в университе. У большинства из них родители живут совместно, имеются братья и сестры. Большая их часть посещала детский сад. Чуть более половины учащихся состоят в романтических отношениях.\n",
    "\n",
    "\n",
    "По итогам корреляционного анализа и теста Стьюдента были отмечены параметры, влияющие на результаты сдачи экзамена по математике:\n",
    "- пол (sex) \n",
    "- адрес (address) \n",
    "- образование отцов (f_job) \n",
    "- желание продолжать учебу и поступать в институт (higher) \n",
    "- состояние в романтических отношениях (romantic) \n",
    "- образование матери (m_edu) \n",
    "- количество внеучебных неудач (failures) \n",
    "- количество времени, затрачиваемого на общение с друзьями (go_out) \n",
    "- количество пропущенных занятий (absences) \n",
    "- количество внеучебных занятий (studytime) \n",
    "- дополнительные платные занятия по математике (paid)"
   ]
  },
  {
   "cell_type": "code",
   "execution_count": null,
   "metadata": {},
   "outputs": [],
   "source": []
  }
 ],
 "metadata": {
  "kernelspec": {
   "display_name": "Python 3",
   "language": "python",
   "name": "python3"
  },
  "language_info": {
   "codemirror_mode": {
    "name": "ipython",
    "version": 3
   },
   "file_extension": ".py",
   "mimetype": "text/x-python",
   "name": "python",
   "nbconvert_exporter": "python",
   "pygments_lexer": "ipython3",
   "version": "3.6.9"
  }
 },
 "nbformat": 4,
 "nbformat_minor": 2
}
